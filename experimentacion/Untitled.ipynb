{
 "cells": [
  {
   "cell_type": "code",
   "execution_count": 5,
   "metadata": {
    "collapsed": true
   },
   "outputs": [],
   "source": [
    "import numpy as np\n",
    "import os\n",
    "import glob\n",
    "import ntpath\n"
   ]
  },
  {
   "cell_type": "code",
   "execution_count": 37,
   "metadata": {},
   "outputs": [
    {
     "name": "stdout",
     "output_type": "stream",
     "text": [
      "0.3\n",
      "0.9\n",
      "0.64\n",
      "0.5\n",
      "0.85\n",
      "0.8\n",
      "0.76\n"
     ]
    }
   ],
   "source": [
    "path = '../tests_docentes/tests_tp1/'\n",
    "\n",
    "for filename in glob.glob(os.path.join(path, '*.txt.out')):\n",
    "    with open(filename, encoding=\"utf-8\") as file:\n",
    "        p = file.readline()\n",
    "        basename = ntpath.basename(filename)\n",
    "        !../cmake-build-debug/pageRank ../tests_docentes/tests_tp1/$basename $p"
   ]
  },
  {
   "cell_type": "code",
   "execution_count": 26,
   "metadata": {},
   "outputs": [
    {
     "name": "stdout",
     "output_type": "stream",
     "text": [
      "0.5\r\n",
      "0.236728\r\n",
      "0.221026\r\n",
      "0.203081\r\n",
      "0.182144\r\n",
      "0.157021\r\n"
     ]
    }
   ],
   "source": [
    "!../cmake-build-debug/pageRank ../tests_docentes/tests_tp1/test_completo.txt 0.5"
   ]
  },
  {
   "cell_type": "code",
   "execution_count": 36,
   "metadata": {},
   "outputs": [
    {
     "data": {
      "text/plain": [
       "array([ 1.65758899,  1.        ,  0.95914736,  0.63660207,  1.        ])"
      ]
     },
     "execution_count": 36,
     "metadata": {},
     "output_type": "execute_result"
    }
   ],
   "source": [
    "x = np.linalg.solve(a, b)\n",
    "x"
   ]
  },
  {
   "cell_type": "code",
   "execution_count": 32,
   "metadata": {},
   "outputs": [
    {
     "data": {
      "text/plain": [
       "True"
      ]
     },
     "execution_count": 32,
     "metadata": {},
     "output_type": "execute_result"
    }
   ],
   "source": [
    "np.allclose(np.dot(a, x), b)"
   ]
  },
  {
   "cell_type": "code",
   "execution_count": null,
   "metadata": {
    "collapsed": true
   },
   "outputs": [],
   "source": []
  }
 ],
 "metadata": {
  "kernelspec": {
   "display_name": "Python 3",
   "language": "python",
   "name": "python3"
  },
  "language_info": {
   "codemirror_mode": {
    "name": "ipython",
    "version": 3
   },
   "file_extension": ".py",
   "mimetype": "text/x-python",
   "name": "python",
   "nbconvert_exporter": "python",
   "pygments_lexer": "ipython3",
   "version": "3.6.1"
  }
 },
 "nbformat": 4,
 "nbformat_minor": 2
}
